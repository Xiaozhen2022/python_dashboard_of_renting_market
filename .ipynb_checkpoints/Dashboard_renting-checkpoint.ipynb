{
 "cells": [
  {
   "cell_type": "code",
   "execution_count": 15,
   "id": "8bbfc147-158e-44fa-916c-71816eb9cd8c",
   "metadata": {
    "tags": []
   },
   "outputs": [],
   "source": [
    "import pandas as pd\n",
    "import numpy as np\n",
    "import panel as pn\n",
    "pn.extension('tabulator')\n",
    "import hvplot.pandas"
   ]
  },
  {
   "cell_type": "code",
   "execution_count": 16,
   "id": "75e9d63c-7583-4350-8d2a-036e913e5c3a",
   "metadata": {},
   "outputs": [],
   "source": [
    "df=pd.read_csv('houses.csv')\n",
    "df.rename(columns={'Unnamed: 0':'id'},inplace=True) \n",
    "#df.head()"
   ]
  },
  {
   "cell_type": "code",
   "execution_count": 17,
   "id": "1ebcb2f7-346d-45bb-a4bf-bb42096c74ee",
   "metadata": {},
   "outputs": [
    {
     "data": {
      "text/plain": [
       "Index(['id', 'listingUrl', 'listingId', 'listingTitle', 'listingCity',\n",
       "       'listingTime', 'listingName', 'listingTel', 'listingAdd', 'listingMail',\n",
       "       'listing_house_type', 'listing_room_type', 'listing_parking',\n",
       "       'listing_facility', 'listing_rent_cover', 'listing_rent_type',\n",
       "       'listing_independent_access', 'listing_rent_date', 'listing_rent_price',\n",
       "       'listing_describe', 'data_time'],\n",
       "      dtype='object')"
      ]
     },
     "execution_count": 17,
     "metadata": {},
     "output_type": "execute_result"
    }
   ],
   "source": [
    "df.columns"
   ]
  },
  {
   "cell_type": "markdown",
   "id": "3e3e215b-e5af-4382-ad00-2991d9b56c3c",
   "metadata": {},
   "source": [
    "## Data Wrangling"
   ]
  },
  {
   "cell_type": "code",
   "execution_count": 18,
   "id": "5b87b5a3-61df-4105-aecc-1db0df819e54",
   "metadata": {},
   "outputs": [
    {
     "name": "stdout",
     "output_type": "stream",
     "text": [
      "59\n"
     ]
    },
    {
     "name": "stderr",
     "output_type": "stream",
     "text": [
      "C:\\Users\\myf\\AppData\\Local\\Temp\\ipykernel_2716\\723318714.py:8: SettingWithCopyWarning: \n",
      "A value is trying to be set on a copy of a slice from a DataFrame.\n",
      "Try using .loc[row_indexer,col_indexer] = value instead\n",
      "\n",
      "See the caveats in the documentation: https://pandas.pydata.org/pandas-docs/stable/user_guide/indexing.html#returning-a-view-versus-a-copy\n",
      "  dd['listingCity']=np.select(conditions,choices)\n"
     ]
    }
   ],
   "source": [
    "# View the number NaN in a column\n",
    "# Fill in field listingTitle\n",
    "print(df['listingCity'].isnull().sum(axis = 0))\n",
    "dd=df[df['listingCity'].isnull()]\n",
    "conditions=[dd['listingTitle'].str.contains('温西|温东|nanaimo天车|UBC|29天车站|29街天车|二十九街|langara'),dd['listingTitle'].str.contains('本拿比|Burnaby|Brentwood|Deer Lake|metrotown'),\\\n",
    "            dd['listingTitle'].str.contains('列治文'),dd['listingTitle'].str.contains('素里'),dd['listingTitle'].str.contains('枫树岭')，dd['listingTitle'].str.contains('高贵林|Burquitlam')]\n",
    "choices=['Vancourver','Burnaby','Richmond','Surrey','Maple Ridge','Coquitlam']\n",
    "dd['listingCity']=np.select(conditions,choices)\n",
    "#print(dd[['id','listingTitle','listingCity']])\n",
    "df['listingCity']=df['listingCity'].fillna(dd['listingCity'])\n"
   ]
  },
  {
   "cell_type": "code",
   "execution_count": 19,
   "id": "705b5a40-a096-4daa-8923-0f459d5f73e6",
   "metadata": {},
   "outputs": [
    {
     "name": "stdout",
     "output_type": "stream",
     "text": [
      "0\n"
     ]
    }
   ],
   "source": [
    "print(df['listingCity'].isnull().sum(axis = 0))"
   ]
  },
  {
   "cell_type": "markdown",
   "id": "36e1a5e2-cf1c-4479-85fd-157966e092a7",
   "metadata": {},
   "source": [
    "## Add some new fields"
   ]
  },
  {
   "cell_type": "code",
   "execution_count": 20,
   "id": "b2a7fb99-87cf-469c-9ea5-e3e9f98da177",
   "metadata": {},
   "outputs": [
    {
     "name": "stderr",
     "output_type": "stream",
     "text": [
      "C:\\Users\\myf\\AppData\\Local\\Temp\\ipykernel_2716\\1905496371.py:4: SettingWithCopyWarning: \n",
      "A value is trying to be set on a copy of a slice from a DataFrame.\n",
      "Try using .loc[row_indexer,col_indexer] = value instead\n",
      "\n",
      "See the caveats in the documentation: https://pandas.pydata.org/pandas-docs/stable/user_guide/indexing.html#returning-a-view-versus-a-copy\n",
      "  dd['room_nums']=dd['listing_room_type'].str.split('；',expand=True)[0]\n",
      "C:\\Users\\myf\\AppData\\Local\\Temp\\ipykernel_2716\\1905496371.py:5: SettingWithCopyWarning: \n",
      "A value is trying to be set on a copy of a slice from a DataFrame.\n",
      "Try using .loc[row_indexer,col_indexer] = value instead\n",
      "\n",
      "See the caveats in the documentation: https://pandas.pydata.org/pandas-docs/stable/user_guide/indexing.html#returning-a-view-versus-a-copy\n",
      "  dd['mon']=dd['listingTime'].apply(lambda x:'-'.join(x.split('-')[0:2]))\n",
      "C:\\Users\\myf\\AppData\\Local\\Temp\\ipykernel_2716\\1905496371.py:6: SettingWithCopyWarning: \n",
      "A value is trying to be set on a copy of a slice from a DataFrame.\n",
      "Try using .loc[row_indexer,col_indexer] = value instead\n",
      "\n",
      "See the caveats in the documentation: https://pandas.pydata.org/pandas-docs/stable/user_guide/indexing.html#returning-a-view-versus-a-copy\n",
      "  dd['day']=dd['listingTime'].apply(lambda x:x.split(', ')[0])\n"
     ]
    }
   ],
   "source": [
    "# Create new DataFrame dd, add field 'room_nums', 'month', 'day'\n",
    "dd=df[df['listing_room_type'].notnull()]\n",
    "dd = df[df['listingTime'].notnull()]\n",
    "dd['room_nums']=dd['listing_room_type'].str.split('；',expand=True)[0]\n",
    "dd['mon']=dd['listingTime'].apply(lambda x:'-'.join(x.split('-')[0:2]))\n",
    "dd['day']=dd['listingTime'].apply(lambda x:x.split(', ')[0])\n"
   ]
  },
  {
   "cell_type": "code",
   "execution_count": 21,
   "id": "c1ac0e07-874d-442e-a9ab-04968b5dd411",
   "metadata": {},
   "outputs": [],
   "source": [
    "# Make DataFrame Pipline Interactive\n",
    "idf=dd.interactive()"
   ]
  },
  {
   "cell_type": "markdown",
   "id": "e2c38f7b-7325-44bc-9e90-b7eb2a8b9ed8",
   "metadata": {},
   "source": [
    "## Distribution of rental housing in each city"
   ]
  },
  {
   "cell_type": "code",
   "execution_count": 29,
   "id": "343ed8f8-3b3d-4e9c-8e8e-cd4fc43f4317",
   "metadata": {},
   "outputs": [],
   "source": [
    "# https://hvplot.holoviz.org/\n",
    "# https://panel.holoviz.org/user_guide/Widgets.html"
   ]
  },
  {
   "cell_type": "code",
   "execution_count": 22,
   "id": "1072aec9-10e3-4fe4-8f53-72b0ec72c6f4",
   "metadata": {},
   "outputs": [
    {
     "data": {},
     "metadata": {},
     "output_type": "display_data"
    },
    {
     "data": {
      "application/vnd.holoviews_exec.v0+json": "",
      "text/html": [
       "<div id='9234'>\n",
       "\n",
       "\n",
       "\n",
       "\n",
       "\n",
       "  <div class=\"bk-root\" id=\"3289f24e-7848-4d27-84c4-e4ed52107d6c\" data-root-id=\"9234\"></div>\n",
       "</div>\n",
       "<script type=\"application/javascript\">(function(root) {\n",
       "  function embed_document(root) {\n",
       "    var docs_json = {\"3327fbe6-5c8b-4847-97f7-a6140f30d154\":{\"defs\":[{\"extends\":null,\"module\":null,\"name\":\"ReactiveHTML1\",\"overrides\":[],\"properties\":[]},{\"extends\":null,\"module\":null,\"name\":\"FlexBox1\",\"overrides\":[],\"properties\":[{\"default\":\"flex-start\",\"kind\":null,\"name\":\"align_content\"},{\"default\":\"flex-start\",\"kind\":null,\"name\":\"align_items\"},{\"default\":\"row\",\"kind\":null,\"name\":\"flex_direction\"},{\"default\":\"wrap\",\"kind\":null,\"name\":\"flex_wrap\"},{\"default\":\"flex-start\",\"kind\":null,\"name\":\"justify_content\"}]},{\"extends\":null,\"module\":null,\"name\":\"GridStack1\",\"overrides\":[],\"properties\":[{\"default\":\"warn\",\"kind\":null,\"name\":\"mode\"},{\"default\":null,\"kind\":null,\"name\":\"ncols\"},{\"default\":null,\"kind\":null,\"name\":\"nrows\"},{\"default\":true,\"kind\":null,\"name\":\"allow_resize\"},{\"default\":true,\"kind\":null,\"name\":\"allow_drag\"},{\"default\":[],\"kind\":null,\"name\":\"state\"}]},{\"extends\":null,\"module\":null,\"name\":\"click1\",\"overrides\":[],\"properties\":[{\"default\":\"\",\"kind\":null,\"name\":\"terminal_output\"},{\"default\":\"\",\"kind\":null,\"name\":\"debug_name\"},{\"default\":0,\"kind\":null,\"name\":\"clears\"}]},{\"extends\":null,\"module\":null,\"name\":\"TemplateActions1\",\"overrides\":[],\"properties\":[{\"default\":0,\"kind\":null,\"name\":\"open_modal\"},{\"default\":0,\"kind\":null,\"name\":\"close_modal\"}]},{\"extends\":null,\"module\":null,\"name\":\"MaterialTemplateActions1\",\"overrides\":[],\"properties\":[{\"default\":0,\"kind\":null,\"name\":\"open_modal\"},{\"default\":0,\"kind\":null,\"name\":\"close_modal\"}]}],\"roots\":{\"references\":[{\"attributes\":{\"active\":0,\"button_type\":\"success\",\"labels\":[\"2022-10\",\"2022-11\"],\"margin\":[5,10,5,10]},\"id\":\"9234\",\"type\":\"RadioButtonGroup\"},{\"attributes\":{\"client_comm_id\":\"06cc64e55e164f0abceb40e0df210d59\",\"comm_id\":\"7bada67757754212aa96259ba7a52bac\",\"plot_id\":\"9234\"},\"id\":\"9235\",\"type\":\"panel.models.comm_manager.CommManager\"}],\"root_ids\":[\"9234\",\"9235\"]},\"title\":\"Bokeh Application\",\"version\":\"2.4.2\"}};\n",
       "    var render_items = [{\"docid\":\"3327fbe6-5c8b-4847-97f7-a6140f30d154\",\"root_ids\":[\"9234\"],\"roots\":{\"9234\":\"3289f24e-7848-4d27-84c4-e4ed52107d6c\"}}];\n",
       "    root.Bokeh.embed.embed_items_notebook(docs_json, render_items);\n",
       "  }\n",
       "  if (root.Bokeh !== undefined && root.Bokeh.Panel !== undefined && ( root['Tabulator'] !== undefined)) {\n",
       "    embed_document(root);\n",
       "  } else {\n",
       "    var attempts = 0;\n",
       "    var timer = setInterval(function(root) {\n",
       "      if (root.Bokeh !== undefined && root.Bokeh.Panel !== undefined && (root['Tabulator'] !== undefined)) {\n",
       "        clearInterval(timer);\n",
       "        embed_document(root);\n",
       "      } else if (document.readyState == \"complete\") {\n",
       "        attempts++;\n",
       "        if (attempts > 200) {\n",
       "          clearInterval(timer);\n",
       "          console.log(\"Bokeh: ERROR: Unable to run BokehJS code because BokehJS library is missing\");\n",
       "        }\n",
       "      }\n",
       "    }, 25, root)\n",
       "  }\n",
       "})(window);</script>"
      ],
      "text/plain": [
       "RadioButtonGroup(button_type='success', name='Y axis', options=['2022-10', '2022-11'], value='2022-10')"
      ]
     },
     "execution_count": 22,
     "metadata": {
      "application/vnd.holoviews_exec.v0+json": {
       "id": "9234"
      }
     },
     "output_type": "execute_result"
    }
   ],
   "source": [
    "# Radio buttons for month choice\n",
    "month = pn.widgets.RadioButtonGroup(\n",
    "    name='Y axis', \n",
    "    options=['2022-10','2022-11',], \n",
    "    button_type='success'\n",
    ")\n",
    "month"
   ]
  },
  {
   "cell_type": "code",
   "execution_count": 23,
   "id": "a6492b45-02d9-4068-bfee-14c0edb78406",
   "metadata": {},
   "outputs": [],
   "source": [
    "dis_renting_pipeline = (idf[idf.listingTime.str.startswith(month).fillna(False)]['listingCity'].value_counts().sort_values(ascending=False))\n",
    "dis_renting_pipeline\n",
    "a=dis_renting_pipeline.hvplot(kind='bar',\n",
    "                            title='Distribution of Rental Housing in Each City',\n",
    "                            rot=30,\n",
    "                           )"
   ]
  },
  {
   "cell_type": "code",
   "execution_count": null,
   "id": "8d724cf7-8ebb-45bb-bdde-e7cd12790065",
   "metadata": {},
   "outputs": [],
   "source": []
  },
  {
   "cell_type": "markdown",
   "id": "88867bd1-5c5d-4a72-a1e4-003ed7b81df5",
   "metadata": {},
   "source": [
    "## Average price of housings distribution"
   ]
  },
  {
   "cell_type": "code",
   "execution_count": 24,
   "id": "3dd6e3d8-30b3-4144-8f60-2ea35d3cd1f1",
   "metadata": {
    "tags": []
   },
   "outputs": [
    {
     "data": {},
     "metadata": {},
     "output_type": "display_data"
    },
    {
     "data": {
      "application/vnd.holoviews_exec.v0+json": "",
      "text/html": [
       "<div id='9236'>\n",
       "\n",
       "\n",
       "\n",
       "\n",
       "\n",
       "  <div class=\"bk-root\" id=\"0ea7ca1e-4924-428f-b623-586d0fab0190\" data-root-id=\"9236\"></div>\n",
       "</div>\n",
       "<script type=\"application/javascript\">(function(root) {\n",
       "  function embed_document(root) {\n",
       "    var docs_json = {\"c737844b-e868-4212-8680-a55380f27f76\":{\"defs\":[{\"extends\":null,\"module\":null,\"name\":\"ReactiveHTML1\",\"overrides\":[],\"properties\":[]},{\"extends\":null,\"module\":null,\"name\":\"FlexBox1\",\"overrides\":[],\"properties\":[{\"default\":\"flex-start\",\"kind\":null,\"name\":\"align_content\"},{\"default\":\"flex-start\",\"kind\":null,\"name\":\"align_items\"},{\"default\":\"row\",\"kind\":null,\"name\":\"flex_direction\"},{\"default\":\"wrap\",\"kind\":null,\"name\":\"flex_wrap\"},{\"default\":\"flex-start\",\"kind\":null,\"name\":\"justify_content\"}]},{\"extends\":null,\"module\":null,\"name\":\"GridStack1\",\"overrides\":[],\"properties\":[{\"default\":\"warn\",\"kind\":null,\"name\":\"mode\"},{\"default\":null,\"kind\":null,\"name\":\"ncols\"},{\"default\":null,\"kind\":null,\"name\":\"nrows\"},{\"default\":true,\"kind\":null,\"name\":\"allow_resize\"},{\"default\":true,\"kind\":null,\"name\":\"allow_drag\"},{\"default\":[],\"kind\":null,\"name\":\"state\"}]},{\"extends\":null,\"module\":null,\"name\":\"click1\",\"overrides\":[],\"properties\":[{\"default\":\"\",\"kind\":null,\"name\":\"terminal_output\"},{\"default\":\"\",\"kind\":null,\"name\":\"debug_name\"},{\"default\":0,\"kind\":null,\"name\":\"clears\"}]},{\"extends\":null,\"module\":null,\"name\":\"TemplateActions1\",\"overrides\":[],\"properties\":[{\"default\":0,\"kind\":null,\"name\":\"open_modal\"},{\"default\":0,\"kind\":null,\"name\":\"close_modal\"}]},{\"extends\":null,\"module\":null,\"name\":\"MaterialTemplateActions1\",\"overrides\":[],\"properties\":[{\"default\":0,\"kind\":null,\"name\":\"open_modal\"},{\"default\":0,\"kind\":null,\"name\":\"close_modal\"}]}],\"roots\":{\"references\":[{\"attributes\":{\"margin\":[5,10,5,10],\"options\":[\"Vancouver\",\"Burnaby\",\"Richmond\"],\"title\":\"City\",\"value\":\"Vancouver\"},\"id\":\"9236\",\"type\":\"panel.models.widgets.CustomSelect\"},{\"attributes\":{\"client_comm_id\":\"9a528c7b64c44d54adfdf8a4770c139e\",\"comm_id\":\"262ad44493f948329e664c9df85b4714\",\"plot_id\":\"9236\"},\"id\":\"9237\",\"type\":\"panel.models.comm_manager.CommManager\"}],\"root_ids\":[\"9236\",\"9237\"]},\"title\":\"Bokeh Application\",\"version\":\"2.4.2\"}};\n",
       "    var render_items = [{\"docid\":\"c737844b-e868-4212-8680-a55380f27f76\",\"root_ids\":[\"9236\"],\"roots\":{\"9236\":\"0ea7ca1e-4924-428f-b623-586d0fab0190\"}}];\n",
       "    root.Bokeh.embed.embed_items_notebook(docs_json, render_items);\n",
       "  }\n",
       "  if (root.Bokeh !== undefined && root.Bokeh.Panel !== undefined && ( root['Tabulator'] !== undefined)) {\n",
       "    embed_document(root);\n",
       "  } else {\n",
       "    var attempts = 0;\n",
       "    var timer = setInterval(function(root) {\n",
       "      if (root.Bokeh !== undefined && root.Bokeh.Panel !== undefined && (root['Tabulator'] !== undefined)) {\n",
       "        clearInterval(timer);\n",
       "        embed_document(root);\n",
       "      } else if (document.readyState == \"complete\") {\n",
       "        attempts++;\n",
       "        if (attempts > 200) {\n",
       "          clearInterval(timer);\n",
       "          console.log(\"Bokeh: ERROR: Unable to run BokehJS code because BokehJS library is missing\");\n",
       "        }\n",
       "      }\n",
       "    }, 25, root)\n",
       "  }\n",
       "})(window);</script>"
      ],
      "text/plain": [
       "Select(name='City', options=['Vancouver', ...], value='Vancouver')"
      ]
     },
     "execution_count": 24,
     "metadata": {
      "application/vnd.holoviews_exec.v0+json": {
       "id": "9236"
      }
     },
     "output_type": "execute_result"
    }
   ],
   "source": [
    "city = pn.widgets.Select(name='City', options=['Vancouver', 'Burnaby', 'Richmond'])\n",
    "city"
   ]
  },
  {
   "cell_type": "code",
   "execution_count": 25,
   "id": "d6d0acaf-acc4-438e-85cd-98f37f7e5c2a",
   "metadata": {},
   "outputs": [],
   "source": [
    "avg_price_rooms_pipeline = (idf[(idf.listingCity==city) & (idf.mon.isin(['2022-10','2022-11']))]\n",
    "                            .groupby(['room_nums','mon'])['listing_rent_price'].mean().round(2)\n",
    "                            .to_frame()\n",
    "                           )\n",
    "\n",
    "avg_price_rooms_pipeline\n",
    "b=avg_price_rooms_pipeline.hvplot(kind='bar',xlabel='Room Type',ylabel='Avg Price',stacked=True,\n",
    "                            title='Average price of housings distribution',\n",
    "                            )"
   ]
  },
  {
   "cell_type": "markdown",
   "id": "9c8f0b48-55b8-470c-a2d6-a1c63f793502",
   "metadata": {},
   "source": [
    "## Daily comparison of new housing resources in different cities"
   ]
  },
  {
   "cell_type": "code",
   "execution_count": 26,
   "id": "c3e0fa08-ab76-4ef9-9d8c-fcaf8fe3879f",
   "metadata": {},
   "outputs": [],
   "source": [
    "rooms_nums_day_pipeline = (idf[(idf.listingTime.str.startswith(month).fillna(False)) & (idf.listingCity.isin(['Vancouver','Burnaby','Richmond']))]\n",
    "                            .groupby(['listingCity','day'])['listingId'].count()\n",
    "                            .to_frame()\n",
    "                            .reset_index()\n",
    "                            .sort_values(by='day')\n",
    "                            .reset_index(drop=True)\n",
    "                          )\n",
    "rooms_nums_day_pipeline\n",
    "c=rooms_nums_day_pipeline.hvplot(x='day', by='listingCity',line_width=2,title=\"Daily comparison of new housing resources in different cities\", rot=90,ylabel='Houses Number')"
   ]
  },
  {
   "cell_type": "markdown",
   "id": "94003ddd-6a1e-435f-92e3-76b31ae59326",
   "metadata": {},
   "source": [
    "## Houses Renting Type and Price"
   ]
  },
  {
   "cell_type": "code",
   "execution_count": 27,
   "id": "c9414129-7e15-4d79-b7a0-36554a4fdf63",
   "metadata": {},
   "outputs": [],
   "source": [
    "new_pipeline = (idf[(idf.listingCity==city) & (idf.listingTime.str.startswith(month).fillna(False)) & (idf.listing_rent_type.notnull)]\n",
    "                            .groupby(['room_nums','listing_rent_type'])['listing_rent_price'].mean().round(2)\n",
    "                            .to_frame()\n",
    "                           )\n",
    "new_pipeline \n",
    "d=new_pipeline.pipe(pn.widgets.Tabulator,pagination='remote', layout='fit_columns',height=300, page_size=10,sizing_mode='stretch_width')"
   ]
  },
  {
   "cell_type": "markdown",
   "id": "d5b5e173-f942-4e11-8358-b54fe023cac4",
   "metadata": {},
   "source": [
    "\n",
    "## Creating Dashboard"
   ]
  },
  {
   "cell_type": "code",
   "execution_count": 28,
   "id": "3e55fbf1-939a-4a92-b476-b6faafae3945",
   "metadata": {},
   "outputs": [
    {
     "name": "stdout",
     "output_type": "stream",
     "text": [
      "Launching server at http://localhost:55130\n"
     ]
    },
    {
     "data": {
      "text/plain": [
       "<bokeh.server.server.Server at 0x258a8db9f70>"
      ]
     },
     "execution_count": 28,
     "metadata": {},
     "output_type": "execute_result"
    }
   ],
   "source": [
    "#Layout using Template\n",
    "template = pn.template.FastListTemplate(\n",
    "    title = 'Greater Vancouver rental market',\n",
    "    sidebar = [pn.pane.Markdown(\"# Greater Vancouver\"),\n",
    "               pn.pane.Markdown(\"#### Different City's Rental Market Change\"),\n",
    "               pn.pane.Markdown(\"#### Different Month's Rental Market Change\"),\n",
    "               pn.pane.Markdown(\"#### Different Room-Type's Rental Market Change\"),\n",
    "               pn.pane.PNG('rent.png',width=330),\n",
    "               pn.pane.Markdown(\"## Settings\"),\n",
    "               month,\n",
    "               city],\n",
    "    main = [pn.Row(pn.Column(a.panel(width=600), margin=(0,25)), pn.Column(b.panel(width=600))),\n",
    "            pn.Row(pn.Column(c.panel(width=700), margin=(0,25)), pn.Column(d.panel(width=500)))],\n",
    "    accent_base_color=\"#2F4F4F\",\n",
    "    header_background=\"#2F4F4F\",)\n",
    "##88d8b0\" cale_both\n",
    "template.show() \n",
    "#template.servable();\n",
    "    \n",
    "    "
   ]
  },
  {
   "cell_type": "code",
   "execution_count": null,
   "id": "a7f08e5d-f2af-43a5-938d-d5ccb22d8da0",
   "metadata": {},
   "outputs": [],
   "source": []
  },
  {
   "cell_type": "code",
   "execution_count": null,
   "id": "87f2c35b-a07e-45ad-a74c-2ca92ff8f145",
   "metadata": {},
   "outputs": [],
   "source": []
  }
 ],
 "metadata": {
  "kernelspec": {
   "display_name": "Python 3 (ipykernel)",
   "language": "python",
   "name": "python3"
  },
  "language_info": {
   "codemirror_mode": {
    "name": "ipython",
    "version": 3
   },
   "file_extension": ".py",
   "mimetype": "text/x-python",
   "name": "python",
   "nbconvert_exporter": "python",
   "pygments_lexer": "ipython3",
   "version": "3.9.12"
  }
 },
 "nbformat": 4,
 "nbformat_minor": 5
}
